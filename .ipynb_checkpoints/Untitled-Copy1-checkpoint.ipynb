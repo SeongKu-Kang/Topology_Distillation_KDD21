{
 "cells": [
  {
   "cell_type": "code",
   "execution_count": 6,
   "id": "888ab42e",
   "metadata": {},
   "outputs": [],
   "source": [
    "import argparse\n",
    "import os\n",
    "\n",
    "from Test.BPR import BPR\n",
    "\n",
    "from Test.dataset import implicit_CF_dataset, implicit_CF_dataset_test_full\n",
    "from Test.data_utils import read_full_settings\n",
    "from Test.evaluation import full_evaluate, full_print_result\n",
    "\n",
    "from copy import deepcopy\n",
    "import time\n",
    "\n",
    "import torch\n",
    "import torch.utils.data as data\n",
    "import torch.optim as optim\n",
    "\n",
    "import random\n",
    "import numpy as np"
   ]
  },
  {
   "cell_type": "code",
   "execution_count": 11,
   "id": "44419523",
   "metadata": {},
   "outputs": [],
   "source": [
    "random.seed(0)\n",
    "np.random.seed(0)\n",
    "torch.manual_seed(0)\n",
    "\n",
    "# Setup\n",
    "## gpu setting\n",
    "gpu = torch.device('cuda:0')\n",
    "\n",
    "## Hyperparameters for Training\n",
    "lr, batch_size = 0.001, 1024\n",
    "reg = 0.001\n",
    "\n",
    "## Hyperparameters for HTD\n",
    "lmbda_TD = 0.001\n",
    "alpha = 0.5 \n",
    "K = 30\n",
    "design_choice = 'second'  # first (i.e., Group(P,P)) or second (i.e., Group(P,e))\n",
    "\n",
    "## Load dataset\n",
    "user_num, item_num = 5220, 25182\n",
    "\n",
    "data_path, dataset, LOO_seed = '/data/seongku/Dataset/', 'citeULike', 3\n",
    "user_count, item_count, train_mat, train_interactions, valid_mat, test_mat = read_full_settings(data_path, dataset, LOO_seed)\n",
    "\n",
    "train_dataset = implicit_CF_dataset(user_count, item_count, train_mat, train_interactions, 1)\n",
    "test_dataset = implicit_CF_dataset_test_full(user_count, item_count, valid_mat, test_mat)\n",
    "\n",
    "train_loader = data.DataLoader(train_dataset, batch_size=batch_size, shuffle=True)"
   ]
  },
  {
   "cell_type": "code",
   "execution_count": null,
   "id": "1eab62f2",
   "metadata": {},
   "outputs": [],
   "source": [
    "## Load Trained Teacher\n",
    "teacher = BPR(user_num, item_num, dim=200, gpu=gpu)\n",
    "with torch.no_grad():\n",
    "    model_path = \"/home/seongku/DE_extension/Saved_models/citeULike/bpr_\" + str(LOO_seed)\n",
    "    teacher = teacher.to(gpu)\n",
    "    teacher.load_state_dict(torch.load(model_path))\n",
    "    teacher_user_emb, teacher_item_emb = teacher.get_embedding()\n",
    "    eval_results = full_evaluate(teacher, gpu, train_loader, test_dataset)   \n",
    "\n",
    "    full_print_result(0, 500, 0, eval_results)"
   ]
  },
  {
   "cell_type": "code",
   "execution_count": null,
   "id": "866a07b3",
   "metadata": {},
   "outputs": [],
   "source": []
  },
  {
   "cell_type": "code",
   "execution_count": null,
   "id": "6c92ee36",
   "metadata": {},
   "outputs": [],
   "source": []
  },
  {
   "cell_type": "code",
   "execution_count": null,
   "id": "66acaab2",
   "metadata": {},
   "outputs": [],
   "source": []
  },
  {
   "cell_type": "code",
   "execution_count": null,
   "id": "69e3e350",
   "metadata": {},
   "outputs": [],
   "source": []
  },
  {
   "cell_type": "code",
   "execution_count": null,
   "id": "6ce32c52",
   "metadata": {},
   "outputs": [],
   "source": []
  },
  {
   "cell_type": "code",
   "execution_count": null,
   "id": "a1f66192",
   "metadata": {},
   "outputs": [],
   "source": []
  }
 ],
 "metadata": {
  "kernelspec": {
   "display_name": "torch",
   "language": "python",
   "name": "torch"
  },
  "language_info": {
   "codemirror_mode": {
    "name": "ipython",
    "version": 3
   },
   "file_extension": ".py",
   "mimetype": "text/x-python",
   "name": "python",
   "nbconvert_exporter": "python",
   "pygments_lexer": "ipython3",
   "version": "3.6.10"
  }
 },
 "nbformat": 4,
 "nbformat_minor": 5
}
